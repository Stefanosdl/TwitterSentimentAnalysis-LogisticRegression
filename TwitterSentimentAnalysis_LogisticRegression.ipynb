{
  "nbformat": 4,
  "nbformat_minor": 0,
  "metadata": {
    "colab": {
      "name": "TwitterSentimentAnalysis_LogisticRegression.ipynb",
      "provenance": [],
      "collapsed_sections": []
    },
    "kernelspec": {
      "display_name": "Python 3",
      "language": "python",
      "name": "python3"
    },
    "language_info": {
      "codemirror_mode": {
        "name": "ipython",
        "version": 3
      },
      "file_extension": ".py",
      "mimetype": "text/x-python",
      "name": "python",
      "nbconvert_exporter": "python",
      "pygments_lexer": "ipython3",
      "version": "3.8.2"
    }
  },
  "cells": [
    {
      "cell_type": "code",
      "metadata": {
        "id": "msvhk4OvPl9h"
      },
      "source": [
        "#link google drive\n",
        "!pip install -U -q PyDrive \n",
        "  \n",
        "from pydrive.auth import GoogleAuth \n",
        "from pydrive.drive import GoogleDrive \n",
        "from google.colab import auth \n",
        "from oauth2client.client import GoogleCredentials   \n",
        "\n",
        "# Authenticate and create the PyDrive client. \n",
        "auth.authenticate_user() \n",
        "gauth = GoogleAuth() \n",
        "gauth.credentials = GoogleCredentials.get_application_default() \n",
        "drive = GoogleDrive(gauth)"
      ],
      "execution_count": 29,
      "outputs": []
    },
    {
      "cell_type": "code",
      "metadata": {
        "id": "ardxoYfZPwZ8"
      },
      "source": [
        "#get the csv file from google drive\n",
        "link = 'https://drive.google.com/file/d/1dTIWNpjlrnTQBIQtaGOh0jCRYZiAQO79/view'\n",
        "\n",
        "# to get the id part of the file \n",
        "id = link.split(\"/\")[-2] \n",
        "\n",
        "downloaded = drive.CreateFile({'id':id})  \n",
        "downloaded.GetContentFile('SentimentTweets.csv')"
      ],
      "execution_count": 30,
      "outputs": []
    },
    {
      "cell_type": "code",
      "metadata": {
        "id": "WWmehci5PyPo"
      },
      "source": [
        "#read from csv and store data\n",
        "import pandas as pd \n",
        "\n",
        "df = pd.read_csv(\"SentimentTweets.csv\",\n",
        "                header = None, encoding = \"ISO-8859-1\",\n",
        "                names=['val','target', 'id', 'date', 'flag', 'user', 'text'],\n",
        "                dtype='unicode')"
      ],
      "execution_count": 31,
      "outputs": []
    },
    {
      "cell_type": "code",
      "metadata": {
        "id": "vm1MkuODP45E"
      },
      "source": [
        "df1 = df.sample(n=10000)\n",
        "features = df1['text'].values\n",
        "labels = df1['target'].values\n",
        "#features = df['text'].values\n",
        "#labels = df['target'].values"
      ],
      "execution_count": 32,
      "outputs": []
    },
    {
      "cell_type": "code",
      "metadata": {
        "id": "5ODaxx9dP8b2",
        "outputId": "9d7b67d8-0176-43f6-814e-e93266a670af",
        "colab": {
          "base_uri": "https://localhost:8080/",
          "height": 51
        }
      },
      "source": [
        "import re\n",
        "import nltk \n",
        "import spacy\n",
        "import en_core_web_sm\n",
        "from nltk.tokenize import word_tokenize\n",
        "nltk.download('punkt')\n",
        "\n",
        "sp = spacy.load('en_core_web_sm')\n",
        "all_stopwords = sp.Defaults.stop_words\n",
        "\n",
        "processed_features = []\n",
        "\n",
        "# load en_core_web_sm of English for vocabluary, syntax & entities\n",
        "nlp = en_core_web_sm.load()\n",
        "\n",
        "def sentence_lemmatization(sentence):\n",
        "    lemma_words = []\n",
        "    for word in sentence:\n",
        "        lemma_words.append(word.lemma_)\n",
        "    return ' '.join(lemma_words)\n",
        "\n",
        "def remove_stopwords(senctence):\n",
        "    text_tokens = word_tokenize(str(features[sentence]))\n",
        "    filtered_words = [word for word in text_tokens if not word in all_stopwords]\n",
        "    return ' '.join(filtered_words)\n",
        "\n",
        "for sentence in range(0, len(features)):\n",
        "    # Remove stopwords\n",
        "    processed_feature = remove_stopwords(str(features[sentence]))\n",
        "\n",
        "    # \"nlp\" Object is used to create documents with linguistic annotations.\n",
        "    my_doc = nlp(processed_feature)\n",
        "\n",
        "    # Use spacy to lemmalize the sentences\n",
        "    processed_feature = sentence_lemmatization(my_doc)\n",
        "\n",
        "    # Remove urls\n",
        "    processed_feature = re.sub(r'http\\S+|www\\S+|https\\S+', '', processed_feature)\n",
        " \n",
        "    # Remove all the special characters\n",
        "    processed_feature = re.sub(r'\\W', ' ', processed_feature)\n",
        "\n",
        "    # remove all single characters\n",
        "    processed_feature= re.sub(r'\\s+[a-zA-Z]\\s+', ' ', processed_feature)\n",
        "\n",
        "    # Remove single characters from the start\n",
        "    processed_feature = re.sub(r'\\^[a-zA-Z]\\s+', ' ', processed_feature) \n",
        "\n",
        "    # Substituting multiple spaces with single space\n",
        "    processed_feature = re.sub(r'\\s+', ' ', processed_feature, flags=re.I)\n",
        "\n",
        "    # Removing prefixed 'b'\n",
        "    processed_feature = re.sub(r'^b\\s+', '', processed_feature)\n",
        "\n",
        "    # Converting to Lowercase\n",
        "    processed_feature = processed_feature.lower()\n",
        "\n",
        "    processed_features.append(processed_feature)"
      ],
      "execution_count": 33,
      "outputs": [
        {
          "output_type": "stream",
          "text": [
            "[nltk_data] Downloading package punkt to /root/nltk_data...\n",
            "[nltk_data]   Package punkt is already up-to-date!\n"
          ],
          "name": "stdout"
        }
      ]
    },
    {
      "cell_type": "code",
      "metadata": {
        "id": "C2WUlE4JP-hd",
        "outputId": "7d6d697f-d01c-443e-bb6f-b8edb340e732",
        "colab": {
          "base_uri": "https://localhost:8080/",
          "height": 51
        }
      },
      "source": [
        "#Use TfidfVectorizer to vectorize data\n",
        "from nltk.corpus import stopwords\n",
        "from sklearn.feature_extraction.text import TfidfVectorizer\n",
        "nltk.download('stopwords')\n",
        "\n",
        "vectorizer = TfidfVectorizer (max_df=1.0, min_df=1, max_features=2000)\n",
        "processed_features = vectorizer.fit_transform(processed_features).toarray()"
      ],
      "execution_count": 34,
      "outputs": [
        {
          "output_type": "stream",
          "text": [
            "[nltk_data] Downloading package stopwords to /root/nltk_data...\n",
            "[nltk_data]   Package stopwords is already up-to-date!\n"
          ],
          "name": "stdout"
        }
      ]
    },
    {
      "cell_type": "code",
      "metadata": {
        "id": "FZz1mbDTQBQG"
      },
      "source": [
        "from sklearn.model_selection import train_test_split\n",
        "X_train, X_test, y_train, y_test = train_test_split(processed_features, labels, test_size=0.2, random_state=4)"
      ],
      "execution_count": 35,
      "outputs": []
    },
    {
      "cell_type": "code",
      "metadata": {
        "id": "V-JhW_2dQC8x"
      },
      "source": [
        "#Model Development\n",
        "from sklearn.linear_model import LogisticRegression\n",
        "\n",
        "# all parameters not specified are set to their defaults\n",
        "# default solver is incredibly slow thats why we change it\n",
        "logreg = LogisticRegression(solver = 'lbfgs')\n",
        "\n",
        "logreg.fit(X_train, y_train)\n",
        "# make predictions on the testing set\n",
        "y_pred = logreg.predict(X_test)"
      ],
      "execution_count": 36,
      "outputs": []
    },
    {
      "cell_type": "code",
      "metadata": {
        "id": "leQgsD3RQEyl",
        "outputId": "e2b5fd72-de5f-49e2-87bc-7f80c0de8efd",
        "colab": {
          "base_uri": "https://localhost:8080/",
          "height": 187
        }
      },
      "source": [
        "#Evaluation\n",
        "from sklearn.metrics import classification_report, accuracy_score\n",
        "print(classification_report(y_test,y_pred))\n",
        "print(\"Accuracy score:\",accuracy_score(y_test, y_pred))"
      ],
      "execution_count": 37,
      "outputs": [
        {
          "output_type": "stream",
          "text": [
            "              precision    recall  f1-score   support\n",
            "\n",
            "           0       0.76      0.73      0.75      1023\n",
            "           4       0.73      0.76      0.74       977\n",
            "\n",
            "    accuracy                           0.74      2000\n",
            "   macro avg       0.74      0.74      0.74      2000\n",
            "weighted avg       0.75      0.74      0.74      2000\n",
            "\n",
            "Accuracy score: 0.7445\n"
          ],
          "name": "stdout"
        }
      ]
    }
  ]
}